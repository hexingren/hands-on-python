{
 "cells": [
  {
   "cell_type": "markdown",
   "metadata": {},
   "source": [
    "# Hands-On With Python"
   ]
  },
  {
   "cell_type": "markdown",
   "metadata": {},
   "source": [
    "#### In this walk-through, we will be covering four main techniques to get you comfortable manipulating data with Python."
   ]
  },
  {
   "cell_type": "markdown",
   "metadata": {},
   "source": [
    "### Overview:\n",
    "1. Reading data into a Pandas data frame (and previewing it)\n",
    "2. Selecting/manipulating data within a data frame\n",
    "3. Aggregating data\n",
    "4. Plotting data (histogram & box plot)"
   ]
  },
  {
   "cell_type": "markdown",
   "metadata": {},
   "source": [
    "### 1. Reading data into a data frame\n",
    "Here, we import the pandas package (commonly referred to as \"pd\")."
   ]
  },
  {
   "cell_type": "code",
   "execution_count": 50,
   "metadata": {
    "collapsed": false
   },
   "outputs": [],
   "source": [
    "import pandas as pd"
   ]
  },
  {
   "cell_type": "markdown",
   "metadata": {},
   "source": [
    "Next, we read in the rentals.csv file (with the `encoding='latin-1'` parameter) and preview the data using `rentals_df.head()`"
   ]
  },
  {
   "cell_type": "code",
   "execution_count": 65,
   "metadata": {
    "collapsed": false
   },
   "outputs": [
    {
     "data": {
      "text/html": [
       "<div>\n",
       "<table border=\"1\" class=\"dataframe\">\n",
       "  <thead>\n",
       "    <tr style=\"text-align: right;\">\n",
       "      <th></th>\n",
       "      <th>Trip id</th>\n",
       "      <th>Starttime</th>\n",
       "      <th>Stoptime</th>\n",
       "      <th>Bikeid</th>\n",
       "      <th>Tripduration</th>\n",
       "      <th>From station id</th>\n",
       "      <th>From station name</th>\n",
       "      <th>To station id</th>\n",
       "      <th>To station name</th>\n",
       "      <th>Usertype</th>\n",
       "    </tr>\n",
       "  </thead>\n",
       "  <tbody>\n",
       "    <tr>\n",
       "      <th>0</th>\n",
       "      <td>27193394</td>\n",
       "      <td>4/1/2017 0:59</td>\n",
       "      <td>4/1/2017 1:43</td>\n",
       "      <td>70024</td>\n",
       "      <td>2659</td>\n",
       "      <td>1012</td>\n",
       "      <td>North Shore Trail &amp; Fort Duquesne Bridge</td>\n",
       "      <td>1045</td>\n",
       "      <td>S 27th St &amp; Sidney St. (Southside Works)</td>\n",
       "      <td>Customer</td>\n",
       "    </tr>\n",
       "    <tr>\n",
       "      <th>1</th>\n",
       "      <td>27193815</td>\n",
       "      <td>4/1/2017 1:43</td>\n",
       "      <td>4/1/2017 1:48</td>\n",
       "      <td>70353</td>\n",
       "      <td>284</td>\n",
       "      <td>1037</td>\n",
       "      <td>Frew St &amp; Schenley Dr</td>\n",
       "      <td>1038</td>\n",
       "      <td>Boulevard of the Allies &amp; Parkview Ave</td>\n",
       "      <td>Subscriber</td>\n",
       "    </tr>\n",
       "    <tr>\n",
       "      <th>2</th>\n",
       "      <td>27194749</td>\n",
       "      <td>4/1/2017 2:35</td>\n",
       "      <td>4/1/2017 3:01</td>\n",
       "      <td>70067</td>\n",
       "      <td>1576</td>\n",
       "      <td>1010</td>\n",
       "      <td>10th St &amp; Penn Ave (David L. Lawrence Conventi...</td>\n",
       "      <td>1010</td>\n",
       "      <td>10th St &amp; Penn Ave (David L. Lawrence Conventi...</td>\n",
       "      <td>Customer</td>\n",
       "    </tr>\n",
       "    <tr>\n",
       "      <th>3</th>\n",
       "      <td>27201194</td>\n",
       "      <td>4/1/2017 5:05</td>\n",
       "      <td>4/1/2017 7:46</td>\n",
       "      <td>70191</td>\n",
       "      <td>9695</td>\n",
       "      <td>1005</td>\n",
       "      <td>Forbes Ave &amp; Grant St</td>\n",
       "      <td>1043</td>\n",
       "      <td>Coltart Ave &amp; Forbes Ave</td>\n",
       "      <td>Customer</td>\n",
       "    </tr>\n",
       "    <tr>\n",
       "      <th>4</th>\n",
       "      <td>27203670</td>\n",
       "      <td>4/1/2017 5:35</td>\n",
       "      <td>4/1/2017 5:54</td>\n",
       "      <td>70353</td>\n",
       "      <td>1164</td>\n",
       "      <td>1038</td>\n",
       "      <td>Boulevard of the Allies &amp; Parkview Ave</td>\n",
       "      <td>1047</td>\n",
       "      <td>S 22nd St &amp; E Carson St</td>\n",
       "      <td>Subscriber</td>\n",
       "    </tr>\n",
       "  </tbody>\n",
       "</table>\n",
       "</div>"
      ],
      "text/plain": [
       "    Trip id      Starttime       Stoptime  Bikeid  Tripduration  \\\n",
       "0  27193394  4/1/2017 0:59  4/1/2017 1:43   70024          2659   \n",
       "1  27193815  4/1/2017 1:43  4/1/2017 1:48   70353           284   \n",
       "2  27194749  4/1/2017 2:35  4/1/2017 3:01   70067          1576   \n",
       "3  27201194  4/1/2017 5:05  4/1/2017 7:46   70191          9695   \n",
       "4  27203670  4/1/2017 5:35  4/1/2017 5:54   70353          1164   \n",
       "\n",
       "   From station id                                  From station name  \\\n",
       "0             1012           North Shore Trail & Fort Duquesne Bridge   \n",
       "1             1037                              Frew St & Schenley Dr   \n",
       "2             1010  10th St & Penn Ave (David L. Lawrence Conventi...   \n",
       "3             1005                              Forbes Ave & Grant St   \n",
       "4             1038             Boulevard of the Allies & Parkview Ave   \n",
       "\n",
       "   To station id                                    To station name  \\\n",
       "0           1045           S 27th St & Sidney St. (Southside Works)   \n",
       "1           1038             Boulevard of the Allies & Parkview Ave   \n",
       "2           1010  10th St & Penn Ave (David L. Lawrence Conventi...   \n",
       "3           1043                           Coltart Ave & Forbes Ave   \n",
       "4           1047                            S 22nd St & E Carson St   \n",
       "\n",
       "     Usertype  \n",
       "0    Customer  \n",
       "1  Subscriber  \n",
       "2    Customer  \n",
       "3    Customer  \n",
       "4  Subscriber  "
      ]
     },
     "execution_count": 65,
     "metadata": {},
     "output_type": "execute_result"
    }
   ],
   "source": [
    "rentals_df = pd.read_csv('rentals.csv', encoding='latin-1')\n",
    "\n",
    "rentals_df.head()"
   ]
  },
  {
   "cell_type": "markdown",
   "metadata": {},
   "source": [
    "We can use the `.shape` attribute of the data frame to see the count of records and number of columns."
   ]
  },
  {
   "cell_type": "code",
   "execution_count": 59,
   "metadata": {
    "collapsed": false
   },
   "outputs": [
    {
     "data": {
      "text/plain": [
       "(24423, 10)"
      ]
     },
     "execution_count": 59,
     "metadata": {},
     "output_type": "execute_result"
    }
   ],
   "source": [
    "rentals_df.shape"
   ]
  },
  {
   "cell_type": "code",
   "execution_count": 60,
   "metadata": {
    "collapsed": false
   },
   "outputs": [
    {
     "name": "stdout",
     "output_type": "stream",
     "text": [
      "There are 24423 records and 10 columns in the rentals.csv file.\n"
     ]
    }
   ],
   "source": [
    "print(\"There are {} records and {} columns in the rentals.csv file.\".format(rentals_df.shape[0], rentals_df.shape[1]))"
   ]
  },
  {
   "cell_type": "markdown",
   "metadata": {},
   "source": [
    "Below, we can see what data types Python assigned to each column using `rentals_df.dtypes`"
   ]
  },
  {
   "cell_type": "code",
   "execution_count": 61,
   "metadata": {
    "collapsed": false
   },
   "outputs": [
    {
     "data": {
      "text/plain": [
       "Trip id               int64\n",
       "Starttime            object\n",
       "Stoptime             object\n",
       "Bikeid                int64\n",
       "Tripduration          int64\n",
       "From station id       int64\n",
       "From station name    object\n",
       "To station id         int64\n",
       "To station name      object\n",
       "Usertype             object\n",
       "dtype: object"
      ]
     },
     "execution_count": 61,
     "metadata": {},
     "output_type": "execute_result"
    }
   ],
   "source": [
    "rentals_df.dtypes"
   ]
  },
  {
   "cell_type": "markdown",
   "metadata": {},
   "source": [
    "### 2. Selecting and manipulating data\n",
    "Here, we will see how to select, rename and do some basic calculations with data frames."
   ]
  },
  {
   "cell_type": "markdown",
   "metadata": {},
   "source": [
    "The data set shows us the trip duration (in seconds), but we would like to see the duration in minutes.\n",
    "\n",
    "To convert the trip duration from seconds to minutes, we create a new column `Tripduration_mins` by taking the value in `Tripduration` and dividing it by 60. Then we use the `.head()` method to check the results.\n",
    "\n",
    "It is important to note that we are **not** looping through each element - the operation of \"divide by 60\" is applied to each element automatically."
   ]
  },
  {
   "cell_type": "code",
   "execution_count": 66,
   "metadata": {
    "collapsed": false
   },
   "outputs": [
    {
     "data": {
      "text/html": [
       "<div>\n",
       "<table border=\"1\" class=\"dataframe\">\n",
       "  <thead>\n",
       "    <tr style=\"text-align: right;\">\n",
       "      <th></th>\n",
       "      <th>Trip id</th>\n",
       "      <th>Starttime</th>\n",
       "      <th>Stoptime</th>\n",
       "      <th>Bikeid</th>\n",
       "      <th>Tripduration</th>\n",
       "      <th>From station id</th>\n",
       "      <th>From station name</th>\n",
       "      <th>To station id</th>\n",
       "      <th>To station name</th>\n",
       "      <th>Usertype</th>\n",
       "      <th>Tripduration_mins</th>\n",
       "    </tr>\n",
       "  </thead>\n",
       "  <tbody>\n",
       "    <tr>\n",
       "      <th>24418</th>\n",
       "      <td>33295197</td>\n",
       "      <td>6/30/2017 23:38</td>\n",
       "      <td>6/30/2017 23:58</td>\n",
       "      <td>70240</td>\n",
       "      <td>1212</td>\n",
       "      <td>1023</td>\n",
       "      <td>Liberty Ave &amp; Baum Blvd</td>\n",
       "      <td>1028</td>\n",
       "      <td>Penn Ave &amp; Putnam St (Bakery Square)</td>\n",
       "      <td>Customer</td>\n",
       "      <td>20.200000</td>\n",
       "    </tr>\n",
       "    <tr>\n",
       "      <th>24419</th>\n",
       "      <td>33295206</td>\n",
       "      <td>6/30/2017 23:38</td>\n",
       "      <td>6/30/2017 23:56</td>\n",
       "      <td>70178</td>\n",
       "      <td>1030</td>\n",
       "      <td>1023</td>\n",
       "      <td>Liberty Ave &amp; Baum Blvd</td>\n",
       "      <td>1028</td>\n",
       "      <td>Penn Ave &amp; Putnam St (Bakery Square)</td>\n",
       "      <td>Customer</td>\n",
       "      <td>17.166667</td>\n",
       "    </tr>\n",
       "    <tr>\n",
       "      <th>24420</th>\n",
       "      <td>33295257</td>\n",
       "      <td>6/30/2017 23:45</td>\n",
       "      <td>7/1/2017 0:07</td>\n",
       "      <td>70490</td>\n",
       "      <td>1351</td>\n",
       "      <td>1010</td>\n",
       "      <td>10th St &amp; Penn Ave (David L. Lawrence Conventi...</td>\n",
       "      <td>1019</td>\n",
       "      <td>42nd St &amp; Butler St</td>\n",
       "      <td>Customer</td>\n",
       "      <td>22.516667</td>\n",
       "    </tr>\n",
       "    <tr>\n",
       "      <th>24421</th>\n",
       "      <td>33295318</td>\n",
       "      <td>6/30/2017 23:55</td>\n",
       "      <td>7/1/2017 0:02</td>\n",
       "      <td>70019</td>\n",
       "      <td>424</td>\n",
       "      <td>1049</td>\n",
       "      <td>S 12th St &amp; E Carson St</td>\n",
       "      <td>1045</td>\n",
       "      <td>S 27th St &amp; Sidney St. (Southside Works)</td>\n",
       "      <td>Customer</td>\n",
       "      <td>7.066667</td>\n",
       "    </tr>\n",
       "    <tr>\n",
       "      <th>24422</th>\n",
       "      <td>33295336</td>\n",
       "      <td>6/30/2017 23:58</td>\n",
       "      <td>7/1/2017 0:15</td>\n",
       "      <td>70400</td>\n",
       "      <td>1008</td>\n",
       "      <td>1021</td>\n",
       "      <td>Taylor St &amp; Liberty Ave</td>\n",
       "      <td>1024</td>\n",
       "      <td>S Negley Ave &amp; Baum Blvd</td>\n",
       "      <td>Customer</td>\n",
       "      <td>16.800000</td>\n",
       "    </tr>\n",
       "  </tbody>\n",
       "</table>\n",
       "</div>"
      ],
      "text/plain": [
       "        Trip id        Starttime         Stoptime  Bikeid  Tripduration  \\\n",
       "24418  33295197  6/30/2017 23:38  6/30/2017 23:58   70240          1212   \n",
       "24419  33295206  6/30/2017 23:38  6/30/2017 23:56   70178          1030   \n",
       "24420  33295257  6/30/2017 23:45    7/1/2017 0:07   70490          1351   \n",
       "24421  33295318  6/30/2017 23:55    7/1/2017 0:02   70019           424   \n",
       "24422  33295336  6/30/2017 23:58    7/1/2017 0:15   70400          1008   \n",
       "\n",
       "       From station id                                  From station name  \\\n",
       "24418             1023                            Liberty Ave & Baum Blvd   \n",
       "24419             1023                            Liberty Ave & Baum Blvd   \n",
       "24420             1010  10th St & Penn Ave (David L. Lawrence Conventi...   \n",
       "24421             1049                            S 12th St & E Carson St   \n",
       "24422             1021                            Taylor St & Liberty Ave   \n",
       "\n",
       "       To station id                           To station name  Usertype  \\\n",
       "24418           1028      Penn Ave & Putnam St (Bakery Square)  Customer   \n",
       "24419           1028      Penn Ave & Putnam St (Bakery Square)  Customer   \n",
       "24420           1019                       42nd St & Butler St  Customer   \n",
       "24421           1045  S 27th St & Sidney St. (Southside Works)  Customer   \n",
       "24422           1024                  S Negley Ave & Baum Blvd  Customer   \n",
       "\n",
       "       Tripduration_mins  \n",
       "24418          20.200000  \n",
       "24419          17.166667  \n",
       "24420          22.516667  \n",
       "24421           7.066667  \n",
       "24422          16.800000  "
      ]
     },
     "execution_count": 66,
     "metadata": {},
     "output_type": "execute_result"
    }
   ],
   "source": [
    "rentals_df['Tripduration_mins'] = rentals_df['Tripduration'] / 60\n",
    "\n",
    "rentals_df.tail()"
   ]
  },
  {
   "cell_type": "markdown",
   "metadata": {},
   "source": [
    "Now, we want to create another column that just has the date of the `Starttime` date time column - so that we can see how many rides occur on a given day.\n",
    "\n",
    "To do this, we use the `pd.to_datetime` function, which takes a column and format as parameters. We now have a date time object that we can format into any string format we want."
   ]
  },
  {
   "cell_type": "code",
   "execution_count": 67,
   "metadata": {
    "collapsed": false
   },
   "outputs": [
    {
     "data": {
      "text/html": [
       "<div>\n",
       "<table border=\"1\" class=\"dataframe\">\n",
       "  <thead>\n",
       "    <tr style=\"text-align: right;\">\n",
       "      <th></th>\n",
       "      <th>Trip id</th>\n",
       "      <th>Starttime</th>\n",
       "      <th>Stoptime</th>\n",
       "      <th>Bikeid</th>\n",
       "      <th>Tripduration</th>\n",
       "      <th>From station id</th>\n",
       "      <th>From station name</th>\n",
       "      <th>To station id</th>\n",
       "      <th>To station name</th>\n",
       "      <th>Usertype</th>\n",
       "      <th>Tripduration_mins</th>\n",
       "      <th>Starttime_dt</th>\n",
       "      <th>Startdate</th>\n",
       "    </tr>\n",
       "  </thead>\n",
       "  <tbody>\n",
       "    <tr>\n",
       "      <th>0</th>\n",
       "      <td>27193394</td>\n",
       "      <td>4/1/2017 0:59</td>\n",
       "      <td>4/1/2017 1:43</td>\n",
       "      <td>70024</td>\n",
       "      <td>2659</td>\n",
       "      <td>1012</td>\n",
       "      <td>North Shore Trail &amp; Fort Duquesne Bridge</td>\n",
       "      <td>1045</td>\n",
       "      <td>S 27th St &amp; Sidney St. (Southside Works)</td>\n",
       "      <td>Customer</td>\n",
       "      <td>44.316667</td>\n",
       "      <td>2017-04-01 00:59:00</td>\n",
       "      <td>04/01/2017</td>\n",
       "    </tr>\n",
       "    <tr>\n",
       "      <th>1</th>\n",
       "      <td>27193815</td>\n",
       "      <td>4/1/2017 1:43</td>\n",
       "      <td>4/1/2017 1:48</td>\n",
       "      <td>70353</td>\n",
       "      <td>284</td>\n",
       "      <td>1037</td>\n",
       "      <td>Frew St &amp; Schenley Dr</td>\n",
       "      <td>1038</td>\n",
       "      <td>Boulevard of the Allies &amp; Parkview Ave</td>\n",
       "      <td>Subscriber</td>\n",
       "      <td>4.733333</td>\n",
       "      <td>2017-04-01 01:43:00</td>\n",
       "      <td>04/01/2017</td>\n",
       "    </tr>\n",
       "    <tr>\n",
       "      <th>2</th>\n",
       "      <td>27194749</td>\n",
       "      <td>4/1/2017 2:35</td>\n",
       "      <td>4/1/2017 3:01</td>\n",
       "      <td>70067</td>\n",
       "      <td>1576</td>\n",
       "      <td>1010</td>\n",
       "      <td>10th St &amp; Penn Ave (David L. Lawrence Conventi...</td>\n",
       "      <td>1010</td>\n",
       "      <td>10th St &amp; Penn Ave (David L. Lawrence Conventi...</td>\n",
       "      <td>Customer</td>\n",
       "      <td>26.266667</td>\n",
       "      <td>2017-04-01 02:35:00</td>\n",
       "      <td>04/01/2017</td>\n",
       "    </tr>\n",
       "    <tr>\n",
       "      <th>3</th>\n",
       "      <td>27201194</td>\n",
       "      <td>4/1/2017 5:05</td>\n",
       "      <td>4/1/2017 7:46</td>\n",
       "      <td>70191</td>\n",
       "      <td>9695</td>\n",
       "      <td>1005</td>\n",
       "      <td>Forbes Ave &amp; Grant St</td>\n",
       "      <td>1043</td>\n",
       "      <td>Coltart Ave &amp; Forbes Ave</td>\n",
       "      <td>Customer</td>\n",
       "      <td>161.583333</td>\n",
       "      <td>2017-04-01 05:05:00</td>\n",
       "      <td>04/01/2017</td>\n",
       "    </tr>\n",
       "    <tr>\n",
       "      <th>4</th>\n",
       "      <td>27203670</td>\n",
       "      <td>4/1/2017 5:35</td>\n",
       "      <td>4/1/2017 5:54</td>\n",
       "      <td>70353</td>\n",
       "      <td>1164</td>\n",
       "      <td>1038</td>\n",
       "      <td>Boulevard of the Allies &amp; Parkview Ave</td>\n",
       "      <td>1047</td>\n",
       "      <td>S 22nd St &amp; E Carson St</td>\n",
       "      <td>Subscriber</td>\n",
       "      <td>19.400000</td>\n",
       "      <td>2017-04-01 05:35:00</td>\n",
       "      <td>04/01/2017</td>\n",
       "    </tr>\n",
       "  </tbody>\n",
       "</table>\n",
       "</div>"
      ],
      "text/plain": [
       "    Trip id      Starttime       Stoptime  Bikeid  Tripduration  \\\n",
       "0  27193394  4/1/2017 0:59  4/1/2017 1:43   70024          2659   \n",
       "1  27193815  4/1/2017 1:43  4/1/2017 1:48   70353           284   \n",
       "2  27194749  4/1/2017 2:35  4/1/2017 3:01   70067          1576   \n",
       "3  27201194  4/1/2017 5:05  4/1/2017 7:46   70191          9695   \n",
       "4  27203670  4/1/2017 5:35  4/1/2017 5:54   70353          1164   \n",
       "\n",
       "   From station id                                  From station name  \\\n",
       "0             1012           North Shore Trail & Fort Duquesne Bridge   \n",
       "1             1037                              Frew St & Schenley Dr   \n",
       "2             1010  10th St & Penn Ave (David L. Lawrence Conventi...   \n",
       "3             1005                              Forbes Ave & Grant St   \n",
       "4             1038             Boulevard of the Allies & Parkview Ave   \n",
       "\n",
       "   To station id                                    To station name  \\\n",
       "0           1045           S 27th St & Sidney St. (Southside Works)   \n",
       "1           1038             Boulevard of the Allies & Parkview Ave   \n",
       "2           1010  10th St & Penn Ave (David L. Lawrence Conventi...   \n",
       "3           1043                           Coltart Ave & Forbes Ave   \n",
       "4           1047                            S 22nd St & E Carson St   \n",
       "\n",
       "     Usertype  Tripduration_mins        Starttime_dt   Startdate  \n",
       "0    Customer          44.316667 2017-04-01 00:59:00  04/01/2017  \n",
       "1  Subscriber           4.733333 2017-04-01 01:43:00  04/01/2017  \n",
       "2    Customer          26.266667 2017-04-01 02:35:00  04/01/2017  \n",
       "3    Customer         161.583333 2017-04-01 05:05:00  04/01/2017  \n",
       "4  Subscriber          19.400000 2017-04-01 05:35:00  04/01/2017  "
      ]
     },
     "execution_count": 67,
     "metadata": {},
     "output_type": "execute_result"
    }
   ],
   "source": [
    "# Parse the date time object from a string\n",
    "rentals_df['Starttime_dt'] = pd.to_datetime(rentals_df['Starttime'], format='%m/%d/%Y %H:%M')\n",
    "\n",
    "# Format the date time object as a string\n",
    "rentals_df['Startdate'] = rentals_df['Starttime_dt'].dt.strftime('%m/%d/%Y')\n",
    "\n",
    "rentals_df.head()"
   ]
  },
  {
   "cell_type": "markdown",
   "metadata": {},
   "source": [
    "Our data frame is getting a bit crowded. For the purposes of the rest of this analysis, we don't need all of these columns. \n",
    "\n",
    "Let's drop a few of the columns we used in calculations and no longer need."
   ]
  },
  {
   "cell_type": "code",
   "execution_count": 68,
   "metadata": {
    "collapsed": false
   },
   "outputs": [
    {
     "data": {
      "text/html": [
       "<div>\n",
       "<table border=\"1\" class=\"dataframe\">\n",
       "  <thead>\n",
       "    <tr style=\"text-align: right;\">\n",
       "      <th></th>\n",
       "      <th>Trip id</th>\n",
       "      <th>Bikeid</th>\n",
       "      <th>From station id</th>\n",
       "      <th>From station name</th>\n",
       "      <th>To station id</th>\n",
       "      <th>To station name</th>\n",
       "      <th>Usertype</th>\n",
       "      <th>Tripduration_mins</th>\n",
       "      <th>Startdate</th>\n",
       "    </tr>\n",
       "  </thead>\n",
       "  <tbody>\n",
       "    <tr>\n",
       "      <th>0</th>\n",
       "      <td>27193394</td>\n",
       "      <td>70024</td>\n",
       "      <td>1012</td>\n",
       "      <td>North Shore Trail &amp; Fort Duquesne Bridge</td>\n",
       "      <td>1045</td>\n",
       "      <td>S 27th St &amp; Sidney St. (Southside Works)</td>\n",
       "      <td>Customer</td>\n",
       "      <td>44.316667</td>\n",
       "      <td>04/01/2017</td>\n",
       "    </tr>\n",
       "    <tr>\n",
       "      <th>1</th>\n",
       "      <td>27193815</td>\n",
       "      <td>70353</td>\n",
       "      <td>1037</td>\n",
       "      <td>Frew St &amp; Schenley Dr</td>\n",
       "      <td>1038</td>\n",
       "      <td>Boulevard of the Allies &amp; Parkview Ave</td>\n",
       "      <td>Subscriber</td>\n",
       "      <td>4.733333</td>\n",
       "      <td>04/01/2017</td>\n",
       "    </tr>\n",
       "    <tr>\n",
       "      <th>2</th>\n",
       "      <td>27194749</td>\n",
       "      <td>70067</td>\n",
       "      <td>1010</td>\n",
       "      <td>10th St &amp; Penn Ave (David L. Lawrence Conventi...</td>\n",
       "      <td>1010</td>\n",
       "      <td>10th St &amp; Penn Ave (David L. Lawrence Conventi...</td>\n",
       "      <td>Customer</td>\n",
       "      <td>26.266667</td>\n",
       "      <td>04/01/2017</td>\n",
       "    </tr>\n",
       "    <tr>\n",
       "      <th>3</th>\n",
       "      <td>27201194</td>\n",
       "      <td>70191</td>\n",
       "      <td>1005</td>\n",
       "      <td>Forbes Ave &amp; Grant St</td>\n",
       "      <td>1043</td>\n",
       "      <td>Coltart Ave &amp; Forbes Ave</td>\n",
       "      <td>Customer</td>\n",
       "      <td>161.583333</td>\n",
       "      <td>04/01/2017</td>\n",
       "    </tr>\n",
       "    <tr>\n",
       "      <th>4</th>\n",
       "      <td>27203670</td>\n",
       "      <td>70353</td>\n",
       "      <td>1038</td>\n",
       "      <td>Boulevard of the Allies &amp; Parkview Ave</td>\n",
       "      <td>1047</td>\n",
       "      <td>S 22nd St &amp; E Carson St</td>\n",
       "      <td>Subscriber</td>\n",
       "      <td>19.400000</td>\n",
       "      <td>04/01/2017</td>\n",
       "    </tr>\n",
       "  </tbody>\n",
       "</table>\n",
       "</div>"
      ],
      "text/plain": [
       "    Trip id  Bikeid  From station id  \\\n",
       "0  27193394   70024             1012   \n",
       "1  27193815   70353             1037   \n",
       "2  27194749   70067             1010   \n",
       "3  27201194   70191             1005   \n",
       "4  27203670   70353             1038   \n",
       "\n",
       "                                   From station name  To station id  \\\n",
       "0           North Shore Trail & Fort Duquesne Bridge           1045   \n",
       "1                              Frew St & Schenley Dr           1038   \n",
       "2  10th St & Penn Ave (David L. Lawrence Conventi...           1010   \n",
       "3                              Forbes Ave & Grant St           1043   \n",
       "4             Boulevard of the Allies & Parkview Ave           1047   \n",
       "\n",
       "                                     To station name    Usertype  \\\n",
       "0           S 27th St & Sidney St. (Southside Works)    Customer   \n",
       "1             Boulevard of the Allies & Parkview Ave  Subscriber   \n",
       "2  10th St & Penn Ave (David L. Lawrence Conventi...    Customer   \n",
       "3                           Coltart Ave & Forbes Ave    Customer   \n",
       "4                            S 22nd St & E Carson St  Subscriber   \n",
       "\n",
       "   Tripduration_mins   Startdate  \n",
       "0          44.316667  04/01/2017  \n",
       "1           4.733333  04/01/2017  \n",
       "2          26.266667  04/01/2017  \n",
       "3         161.583333  04/01/2017  \n",
       "4          19.400000  04/01/2017  "
      ]
     },
     "execution_count": 68,
     "metadata": {},
     "output_type": "execute_result"
    }
   ],
   "source": [
    "rentals_df.drop(['Starttime', 'Stoptime', 'Starttime_dt', 'Tripduration'], axis=1, inplace=True)\n",
    "\n",
    "rentals_df.head()"
   ]
  },
  {
   "cell_type": "markdown",
   "metadata": {},
   "source": [
    "### 3. Aggregating data\n",
    "Here, we will see how to group data in preparation for plotting."
   ]
  }
 ],
 "metadata": {
  "anaconda-cloud": {},
  "kernelspec": {
   "display_name": "Python [conda env:Python35]",
   "language": "python",
   "name": "conda-env-Python35-py"
  },
  "language_info": {
   "codemirror_mode": {
    "name": "ipython",
    "version": 3
   },
   "file_extension": ".py",
   "mimetype": "text/x-python",
   "name": "python",
   "nbconvert_exporter": "python",
   "pygments_lexer": "ipython3",
   "version": "3.5.3"
  }
 },
 "nbformat": 4,
 "nbformat_minor": 1
}
