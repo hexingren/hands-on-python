{
 "cells": [
  {
   "cell_type": "markdown",
   "metadata": {},
   "source": [
    "# Hands-On With Python"
   ]
  },
  {
   "cell_type": "markdown",
   "metadata": {},
   "source": [
    "#### In this walk-through, we will be covering four main techniques to get you comfortable manipulating data with Python."
   ]
  },
  {
   "cell_type": "markdown",
   "metadata": {},
   "source": [
    "### Overview:\n",
<<<<<<< HEAD
    "1. Reading data into a data frame (and previewing it)\n",
    "2. Selecting/manipulating data\n",
    "3. Aggregating data\n",
    "4. Plotting data"
=======
    "1. Reading data into a Pandas data frame (and previewing it)\n",
    "2. Selecting/manipulating data within a data frame\n",
    "3. Aggregating data\n",
    "4. Plotting data (histogram & box plot)"
>>>>>>> 0af37b1f67903efd746e537710353e79d37bc7e4
   ]
  },
  {
   "cell_type": "markdown",
   "metadata": {},
   "source": [
    "### 1. Reading data into a data frame\n",
    "Here, we import the pandas package (commonly referred to as \"pd\")."
   ]
  },
  {
   "cell_type": "code",
<<<<<<< HEAD
   "execution_count": 1,
=======
   "execution_count": 50,
>>>>>>> 0af37b1f67903efd746e537710353e79d37bc7e4
   "metadata": {
    "collapsed": false
   },
   "outputs": [],
   "source": [
    "import pandas as pd"
   ]
  },
  {
   "cell_type": "markdown",
   "metadata": {},
   "source": [
    "Next, we read in the rentals.csv file (with the `encoding='latin-1'` parameter) and preview the data using `rentals_df.head()`"
   ]
  },
  {
   "cell_type": "code",
<<<<<<< HEAD
   "execution_count": 97,
=======
   "execution_count": 65,
>>>>>>> 0af37b1f67903efd746e537710353e79d37bc7e4
   "metadata": {
    "collapsed": false
   },
   "outputs": [
    {
     "data": {
      "text/html": [
       "<div>\n",
       "<table border=\"1\" class=\"dataframe\">\n",
       "  <thead>\n",
       "    <tr style=\"text-align: right;\">\n",
       "      <th></th>\n",
       "      <th>Trip id</th>\n",
       "      <th>Starttime</th>\n",
       "      <th>Stoptime</th>\n",
       "      <th>Bikeid</th>\n",
       "      <th>Tripduration</th>\n",
       "      <th>From station id</th>\n",
       "      <th>From station name</th>\n",
       "      <th>To station id</th>\n",
       "      <th>To station name</th>\n",
       "      <th>Usertype</th>\n",
       "    </tr>\n",
       "  </thead>\n",
       "  <tbody>\n",
       "    <tr>\n",
       "      <th>0</th>\n",
       "      <td>27193394</td>\n",
       "      <td>4/1/2017 0:59</td>\n",
       "      <td>4/1/2017 1:43</td>\n",
       "      <td>70024</td>\n",
       "      <td>2659</td>\n",
       "      <td>1012</td>\n",
       "      <td>North Shore Trail &amp; Fort Duquesne Bridge</td>\n",
       "      <td>1045</td>\n",
       "      <td>S 27th St &amp; Sidney St. (Southside Works)</td>\n",
       "      <td>Customer</td>\n",
       "    </tr>\n",
       "    <tr>\n",
       "      <th>1</th>\n",
       "      <td>27193815</td>\n",
       "      <td>4/1/2017 1:43</td>\n",
       "      <td>4/1/2017 1:48</td>\n",
       "      <td>70353</td>\n",
       "      <td>284</td>\n",
       "      <td>1037</td>\n",
       "      <td>Frew St &amp; Schenley Dr</td>\n",
       "      <td>1038</td>\n",
       "      <td>Boulevard of the Allies &amp; Parkview Ave</td>\n",
       "      <td>Subscriber</td>\n",
       "    </tr>\n",
       "    <tr>\n",
       "      <th>2</th>\n",
       "      <td>27194749</td>\n",
       "      <td>4/1/2017 2:35</td>\n",
       "      <td>4/1/2017 3:01</td>\n",
       "      <td>70067</td>\n",
       "      <td>1576</td>\n",
       "      <td>1010</td>\n",
       "      <td>10th St &amp; Penn Ave (David L. Lawrence Conventi...</td>\n",
       "      <td>1010</td>\n",
       "      <td>10th St &amp; Penn Ave (David L. Lawrence Conventi...</td>\n",
       "      <td>Customer</td>\n",
       "    </tr>\n",
       "    <tr>\n",
       "      <th>3</th>\n",
       "      <td>27201194</td>\n",
       "      <td>4/1/2017 5:05</td>\n",
       "      <td>4/1/2017 7:46</td>\n",
       "      <td>70191</td>\n",
       "      <td>9695</td>\n",
       "      <td>1005</td>\n",
       "      <td>Forbes Ave &amp; Grant St</td>\n",
       "      <td>1043</td>\n",
       "      <td>Coltart Ave &amp; Forbes Ave</td>\n",
       "      <td>Customer</td>\n",
       "    </tr>\n",
       "    <tr>\n",
       "      <th>4</th>\n",
       "      <td>27203670</td>\n",
       "      <td>4/1/2017 5:35</td>\n",
       "      <td>4/1/2017 5:54</td>\n",
       "      <td>70353</td>\n",
       "      <td>1164</td>\n",
       "      <td>1038</td>\n",
       "      <td>Boulevard of the Allies &amp; Parkview Ave</td>\n",
       "      <td>1047</td>\n",
       "      <td>S 22nd St &amp; E Carson St</td>\n",
       "      <td>Subscriber</td>\n",
       "    </tr>\n",
       "  </tbody>\n",
       "</table>\n",
       "</div>"
      ],
      "text/plain": [
       "    Trip id      Starttime       Stoptime  Bikeid  Tripduration  \\\n",
       "0  27193394  4/1/2017 0:59  4/1/2017 1:43   70024          2659   \n",
       "1  27193815  4/1/2017 1:43  4/1/2017 1:48   70353           284   \n",
       "2  27194749  4/1/2017 2:35  4/1/2017 3:01   70067          1576   \n",
       "3  27201194  4/1/2017 5:05  4/1/2017 7:46   70191          9695   \n",
       "4  27203670  4/1/2017 5:35  4/1/2017 5:54   70353          1164   \n",
       "\n",
       "   From station id                                  From station name  \\\n",
       "0             1012           North Shore Trail & Fort Duquesne Bridge   \n",
       "1             1037                              Frew St & Schenley Dr   \n",
       "2             1010  10th St & Penn Ave (David L. Lawrence Conventi...   \n",
       "3             1005                              Forbes Ave & Grant St   \n",
       "4             1038             Boulevard of the Allies & Parkview Ave   \n",
       "\n",
       "   To station id                                    To station name  \\\n",
       "0           1045           S 27th St & Sidney St. (Southside Works)   \n",
       "1           1038             Boulevard of the Allies & Parkview Ave   \n",
       "2           1010  10th St & Penn Ave (David L. Lawrence Conventi...   \n",
       "3           1043                           Coltart Ave & Forbes Ave   \n",
       "4           1047                            S 22nd St & E Carson St   \n",
       "\n",
       "     Usertype  \n",
       "0    Customer  \n",
       "1  Subscriber  \n",
       "2    Customer  \n",
       "3    Customer  \n",
       "4  Subscriber  "
      ]
     },
<<<<<<< HEAD
     "execution_count": 97,
=======
     "execution_count": 65,
>>>>>>> 0af37b1f67903efd746e537710353e79d37bc7e4
     "metadata": {},
     "output_type": "execute_result"
    }
   ],
   "source": [
    "rentals_df = pd.read_csv('rentals.csv', encoding='latin-1')\n",
    "\n",
    "rentals_df.head()"
   ]
  },
  {
   "cell_type": "markdown",
   "metadata": {},
   "source": [
    "We can use the `.shape` attribute of the data frame to see the count of records and number of columns."
   ]
  },
  {
   "cell_type": "code",
<<<<<<< HEAD
   "execution_count": 3,
=======
   "execution_count": 59,
>>>>>>> 0af37b1f67903efd746e537710353e79d37bc7e4
   "metadata": {
    "collapsed": false
   },
   "outputs": [
    {
     "data": {
      "text/plain": [
       "(24423, 10)"
      ]
     },
<<<<<<< HEAD
     "execution_count": 3,
=======
     "execution_count": 59,
>>>>>>> 0af37b1f67903efd746e537710353e79d37bc7e4
     "metadata": {},
     "output_type": "execute_result"
    }
   ],
   "source": [
    "rentals_df.shape"
   ]
  },
  {
   "cell_type": "code",
<<<<<<< HEAD
   "execution_count": 4,
=======
   "execution_count": 60,
>>>>>>> 0af37b1f67903efd746e537710353e79d37bc7e4
   "metadata": {
    "collapsed": false
   },
   "outputs": [
    {
     "name": "stdout",
     "output_type": "stream",
     "text": [
      "There are 24423 records and 10 columns in the rentals.csv file.\n"
     ]
    }
   ],
   "source": [
    "print(\"There are {} records and {} columns in the rentals.csv file.\".format(rentals_df.shape[0], rentals_df.shape[1]))"
   ]
  },
  {
   "cell_type": "markdown",
   "metadata": {},
   "source": [
<<<<<<< HEAD
    "Also, we can see what data types Python assigned to each column using `rentals_df.dtypes`"
=======
    "Below, we can see what data types Python assigned to each column using `rentals_df.dtypes`"
>>>>>>> 0af37b1f67903efd746e537710353e79d37bc7e4
   ]
  },
  {
   "cell_type": "code",
<<<<<<< HEAD
   "execution_count": 5,
=======
   "execution_count": 61,
>>>>>>> 0af37b1f67903efd746e537710353e79d37bc7e4
   "metadata": {
    "collapsed": false
   },
   "outputs": [
    {
     "data": {
      "text/plain": [
       "Trip id               int64\n",
       "Starttime            object\n",
       "Stoptime             object\n",
       "Bikeid                int64\n",
       "Tripduration          int64\n",
       "From station id       int64\n",
       "From station name    object\n",
       "To station id         int64\n",
       "To station name      object\n",
       "Usertype             object\n",
       "dtype: object"
      ]
     },
<<<<<<< HEAD
     "execution_count": 5,
=======
     "execution_count": 61,
>>>>>>> 0af37b1f67903efd746e537710353e79d37bc7e4
     "metadata": {},
     "output_type": "execute_result"
    }
   ],
   "source": [
    "rentals_df.dtypes"
   ]
  },
  {
   "cell_type": "markdown",
   "metadata": {},
   "source": [
    "### 2. Selecting and manipulating data\n",
    "Here, we will see how to select, rename and do some basic calculations with data frames."
   ]
  },
  {
   "cell_type": "markdown",
   "metadata": {},
   "source": [
    "The data set shows us the trip duration (in seconds), but we would like to see the duration in minutes.\n",
    "\n",
<<<<<<< HEAD
    "To convert the trip duration from seconds to minutes, we create a new column `Tripduration_mins` by taking the value in `Tripduration` and dividing it by 60. Then we use the `.tail()` method to check the results.\n",
=======
    "To convert the trip duration from seconds to minutes, we create a new column `Tripduration_mins` by taking the value in `Tripduration` and dividing it by 60. Then we use the `.head()` method to check the results.\n",
>>>>>>> 0af37b1f67903efd746e537710353e79d37bc7e4
    "\n",
    "It is important to note that we are **not** looping through each element - the operation of \"divide by 60\" is applied to each element automatically."
   ]
  },
  {
   "cell_type": "code",
<<<<<<< HEAD
   "execution_count": 98,
=======
   "execution_count": 66,
>>>>>>> 0af37b1f67903efd746e537710353e79d37bc7e4
   "metadata": {
    "collapsed": false
   },
   "outputs": [
    {
     "data": {
      "text/html": [
       "<div>\n",
       "<table border=\"1\" class=\"dataframe\">\n",
       "  <thead>\n",
       "    <tr style=\"text-align: right;\">\n",
       "      <th></th>\n",
       "      <th>Trip id</th>\n",
       "      <th>Starttime</th>\n",
       "      <th>Stoptime</th>\n",
       "      <th>Bikeid</th>\n",
       "      <th>Tripduration</th>\n",
       "      <th>From station id</th>\n",
       "      <th>From station name</th>\n",
       "      <th>To station id</th>\n",
       "      <th>To station name</th>\n",
       "      <th>Usertype</th>\n",
       "      <th>Tripduration_mins</th>\n",
       "    </tr>\n",
       "  </thead>\n",
       "  <tbody>\n",
       "    <tr>\n",
       "      <th>24418</th>\n",
       "      <td>33295197</td>\n",
       "      <td>6/30/2017 23:38</td>\n",
       "      <td>6/30/2017 23:58</td>\n",
       "      <td>70240</td>\n",
       "      <td>1212</td>\n",
       "      <td>1023</td>\n",
       "      <td>Liberty Ave &amp; Baum Blvd</td>\n",
       "      <td>1028</td>\n",
       "      <td>Penn Ave &amp; Putnam St (Bakery Square)</td>\n",
       "      <td>Customer</td>\n",
       "      <td>20.200000</td>\n",
       "    </tr>\n",
       "    <tr>\n",
       "      <th>24419</th>\n",
       "      <td>33295206</td>\n",
       "      <td>6/30/2017 23:38</td>\n",
       "      <td>6/30/2017 23:56</td>\n",
       "      <td>70178</td>\n",
       "      <td>1030</td>\n",
       "      <td>1023</td>\n",
       "      <td>Liberty Ave &amp; Baum Blvd</td>\n",
       "      <td>1028</td>\n",
       "      <td>Penn Ave &amp; Putnam St (Bakery Square)</td>\n",
       "      <td>Customer</td>\n",
       "      <td>17.166667</td>\n",
       "    </tr>\n",
       "    <tr>\n",
       "      <th>24420</th>\n",
       "      <td>33295257</td>\n",
       "      <td>6/30/2017 23:45</td>\n",
       "      <td>7/1/2017 0:07</td>\n",
       "      <td>70490</td>\n",
       "      <td>1351</td>\n",
       "      <td>1010</td>\n",
       "      <td>10th St &amp; Penn Ave (David L. Lawrence Conventi...</td>\n",
       "      <td>1019</td>\n",
       "      <td>42nd St &amp; Butler St</td>\n",
       "      <td>Customer</td>\n",
       "      <td>22.516667</td>\n",
       "    </tr>\n",
       "    <tr>\n",
       "      <th>24421</th>\n",
       "      <td>33295318</td>\n",
       "      <td>6/30/2017 23:55</td>\n",
       "      <td>7/1/2017 0:02</td>\n",
       "      <td>70019</td>\n",
       "      <td>424</td>\n",
       "      <td>1049</td>\n",
       "      <td>S 12th St &amp; E Carson St</td>\n",
       "      <td>1045</td>\n",
       "      <td>S 27th St &amp; Sidney St. (Southside Works)</td>\n",
       "      <td>Customer</td>\n",
       "      <td>7.066667</td>\n",
       "    </tr>\n",
       "    <tr>\n",
       "      <th>24422</th>\n",
       "      <td>33295336</td>\n",
       "      <td>6/30/2017 23:58</td>\n",
       "      <td>7/1/2017 0:15</td>\n",
       "      <td>70400</td>\n",
       "      <td>1008</td>\n",
       "      <td>1021</td>\n",
       "      <td>Taylor St &amp; Liberty Ave</td>\n",
       "      <td>1024</td>\n",
       "      <td>S Negley Ave &amp; Baum Blvd</td>\n",
       "      <td>Customer</td>\n",
       "      <td>16.800000</td>\n",
       "    </tr>\n",
       "  </tbody>\n",
       "</table>\n",
       "</div>"
      ],
      "text/plain": [
       "        Trip id        Starttime         Stoptime  Bikeid  Tripduration  \\\n",
       "24418  33295197  6/30/2017 23:38  6/30/2017 23:58   70240          1212   \n",
       "24419  33295206  6/30/2017 23:38  6/30/2017 23:56   70178          1030   \n",
       "24420  33295257  6/30/2017 23:45    7/1/2017 0:07   70490          1351   \n",
       "24421  33295318  6/30/2017 23:55    7/1/2017 0:02   70019           424   \n",
       "24422  33295336  6/30/2017 23:58    7/1/2017 0:15   70400          1008   \n",
       "\n",
       "       From station id                                  From station name  \\\n",
       "24418             1023                            Liberty Ave & Baum Blvd   \n",
       "24419             1023                            Liberty Ave & Baum Blvd   \n",
       "24420             1010  10th St & Penn Ave (David L. Lawrence Conventi...   \n",
       "24421             1049                            S 12th St & E Carson St   \n",
       "24422             1021                            Taylor St & Liberty Ave   \n",
       "\n",
       "       To station id                           To station name  Usertype  \\\n",
       "24418           1028      Penn Ave & Putnam St (Bakery Square)  Customer   \n",
       "24419           1028      Penn Ave & Putnam St (Bakery Square)  Customer   \n",
       "24420           1019                       42nd St & Butler St  Customer   \n",
       "24421           1045  S 27th St & Sidney St. (Southside Works)  Customer   \n",
       "24422           1024                  S Negley Ave & Baum Blvd  Customer   \n",
       "\n",
       "       Tripduration_mins  \n",
       "24418          20.200000  \n",
       "24419          17.166667  \n",
       "24420          22.516667  \n",
       "24421           7.066667  \n",
       "24422          16.800000  "
      ]
     },
<<<<<<< HEAD
     "execution_count": 98,
=======
     "execution_count": 66,
>>>>>>> 0af37b1f67903efd746e537710353e79d37bc7e4
     "metadata": {},
     "output_type": "execute_result"
    }
   ],
   "source": [
    "rentals_df['Tripduration_mins'] = rentals_df['Tripduration'] / 60\n",
    "\n",
    "rentals_df.tail()"
   ]
  },
  {
   "cell_type": "markdown",
   "metadata": {},
   "source": [
    "Now, we want to create another column that just has the date of the `Starttime` date time column - so that we can see how many rides occur on a given day.\n",
    "\n",
<<<<<<< HEAD
    "To do this, we use the `pd.to_datetime` function, which requires a string column and date time format as parameters. We now have a date time object that we can format into any [string format](https://docs.python.org/3/library/datetime.html#strftime-and-strptime-behavior) we want."
=======
    "To do this, we use the `pd.to_datetime` function, which takes a column and format as parameters. We now have a date time object that we can format into any string format we want."
>>>>>>> 0af37b1f67903efd746e537710353e79d37bc7e4
   ]
  },
  {
   "cell_type": "code",
<<<<<<< HEAD
   "execution_count": 99,
=======
   "execution_count": 67,
>>>>>>> 0af37b1f67903efd746e537710353e79d37bc7e4
   "metadata": {
    "collapsed": false
   },
   "outputs": [
    {
     "data": {
      "text/html": [
       "<div>\n",
       "<table border=\"1\" class=\"dataframe\">\n",
       "  <thead>\n",
       "    <tr style=\"text-align: right;\">\n",
       "      <th></th>\n",
       "      <th>Trip id</th>\n",
       "      <th>Starttime</th>\n",
       "      <th>Stoptime</th>\n",
       "      <th>Bikeid</th>\n",
       "      <th>Tripduration</th>\n",
       "      <th>From station id</th>\n",
       "      <th>From station name</th>\n",
       "      <th>To station id</th>\n",
       "      <th>To station name</th>\n",
       "      <th>Usertype</th>\n",
       "      <th>Tripduration_mins</th>\n",
       "      <th>Starttime_dt</th>\n",
       "      <th>Startdate</th>\n",
       "    </tr>\n",
       "  </thead>\n",
       "  <tbody>\n",
       "    <tr>\n",
       "      <th>0</th>\n",
       "      <td>27193394</td>\n",
       "      <td>4/1/2017 0:59</td>\n",
       "      <td>4/1/2017 1:43</td>\n",
       "      <td>70024</td>\n",
       "      <td>2659</td>\n",
       "      <td>1012</td>\n",
       "      <td>North Shore Trail &amp; Fort Duquesne Bridge</td>\n",
       "      <td>1045</td>\n",
       "      <td>S 27th St &amp; Sidney St. (Southside Works)</td>\n",
       "      <td>Customer</td>\n",
       "      <td>44.316667</td>\n",
       "      <td>2017-04-01 00:59:00</td>\n",
       "      <td>04/01/2017</td>\n",
       "    </tr>\n",
       "    <tr>\n",
       "      <th>1</th>\n",
       "      <td>27193815</td>\n",
       "      <td>4/1/2017 1:43</td>\n",
       "      <td>4/1/2017 1:48</td>\n",
       "      <td>70353</td>\n",
       "      <td>284</td>\n",
       "      <td>1037</td>\n",
       "      <td>Frew St &amp; Schenley Dr</td>\n",
       "      <td>1038</td>\n",
       "      <td>Boulevard of the Allies &amp; Parkview Ave</td>\n",
       "      <td>Subscriber</td>\n",
       "      <td>4.733333</td>\n",
       "      <td>2017-04-01 01:43:00</td>\n",
       "      <td>04/01/2017</td>\n",
       "    </tr>\n",
       "    <tr>\n",
       "      <th>2</th>\n",
       "      <td>27194749</td>\n",
       "      <td>4/1/2017 2:35</td>\n",
       "      <td>4/1/2017 3:01</td>\n",
       "      <td>70067</td>\n",
       "      <td>1576</td>\n",
       "      <td>1010</td>\n",
       "      <td>10th St &amp; Penn Ave (David L. Lawrence Conventi...</td>\n",
       "      <td>1010</td>\n",
       "      <td>10th St &amp; Penn Ave (David L. Lawrence Conventi...</td>\n",
       "      <td>Customer</td>\n",
       "      <td>26.266667</td>\n",
       "      <td>2017-04-01 02:35:00</td>\n",
       "      <td>04/01/2017</td>\n",
       "    </tr>\n",
       "    <tr>\n",
       "      <th>3</th>\n",
       "      <td>27201194</td>\n",
       "      <td>4/1/2017 5:05</td>\n",
       "      <td>4/1/2017 7:46</td>\n",
       "      <td>70191</td>\n",
       "      <td>9695</td>\n",
       "      <td>1005</td>\n",
       "      <td>Forbes Ave &amp; Grant St</td>\n",
       "      <td>1043</td>\n",
       "      <td>Coltart Ave &amp; Forbes Ave</td>\n",
       "      <td>Customer</td>\n",
       "      <td>161.583333</td>\n",
       "      <td>2017-04-01 05:05:00</td>\n",
       "      <td>04/01/2017</td>\n",
       "    </tr>\n",
       "    <tr>\n",
       "      <th>4</th>\n",
       "      <td>27203670</td>\n",
       "      <td>4/1/2017 5:35</td>\n",
       "      <td>4/1/2017 5:54</td>\n",
       "      <td>70353</td>\n",
       "      <td>1164</td>\n",
       "      <td>1038</td>\n",
       "      <td>Boulevard of the Allies &amp; Parkview Ave</td>\n",
       "      <td>1047</td>\n",
       "      <td>S 22nd St &amp; E Carson St</td>\n",
       "      <td>Subscriber</td>\n",
       "      <td>19.400000</td>\n",
       "      <td>2017-04-01 05:35:00</td>\n",
       "      <td>04/01/2017</td>\n",
       "    </tr>\n",
       "  </tbody>\n",
       "</table>\n",
       "</div>"
      ],
      "text/plain": [
       "    Trip id      Starttime       Stoptime  Bikeid  Tripduration  \\\n",
       "0  27193394  4/1/2017 0:59  4/1/2017 1:43   70024          2659   \n",
       "1  27193815  4/1/2017 1:43  4/1/2017 1:48   70353           284   \n",
       "2  27194749  4/1/2017 2:35  4/1/2017 3:01   70067          1576   \n",
       "3  27201194  4/1/2017 5:05  4/1/2017 7:46   70191          9695   \n",
       "4  27203670  4/1/2017 5:35  4/1/2017 5:54   70353          1164   \n",
       "\n",
       "   From station id                                  From station name  \\\n",
       "0             1012           North Shore Trail & Fort Duquesne Bridge   \n",
       "1             1037                              Frew St & Schenley Dr   \n",
       "2             1010  10th St & Penn Ave (David L. Lawrence Conventi...   \n",
       "3             1005                              Forbes Ave & Grant St   \n",
       "4             1038             Boulevard of the Allies & Parkview Ave   \n",
       "\n",
       "   To station id                                    To station name  \\\n",
       "0           1045           S 27th St & Sidney St. (Southside Works)   \n",
       "1           1038             Boulevard of the Allies & Parkview Ave   \n",
       "2           1010  10th St & Penn Ave (David L. Lawrence Conventi...   \n",
       "3           1043                           Coltart Ave & Forbes Ave   \n",
       "4           1047                            S 22nd St & E Carson St   \n",
       "\n",
       "     Usertype  Tripduration_mins        Starttime_dt   Startdate  \n",
       "0    Customer          44.316667 2017-04-01 00:59:00  04/01/2017  \n",
       "1  Subscriber           4.733333 2017-04-01 01:43:00  04/01/2017  \n",
       "2    Customer          26.266667 2017-04-01 02:35:00  04/01/2017  \n",
       "3    Customer         161.583333 2017-04-01 05:05:00  04/01/2017  \n",
       "4  Subscriber          19.400000 2017-04-01 05:35:00  04/01/2017  "
      ]
     },
<<<<<<< HEAD
     "execution_count": 99,
=======
     "execution_count": 67,
>>>>>>> 0af37b1f67903efd746e537710353e79d37bc7e4
     "metadata": {},
     "output_type": "execute_result"
    }
   ],
   "source": [
    "# Parse the date time object from a string\n",
    "rentals_df['Starttime_dt'] = pd.to_datetime(rentals_df['Starttime'], format='%m/%d/%Y %H:%M')\n",
    "\n",
    "# Format the date time object as a string\n",
    "rentals_df['Startdate'] = rentals_df['Starttime_dt'].dt.strftime('%m/%d/%Y')\n",
    "\n",
    "rentals_df.head()"
   ]
  },
  {
   "cell_type": "markdown",
   "metadata": {},
   "source": [
    "Our data frame is getting a bit crowded. For the purposes of the rest of this analysis, we don't need all of these columns. \n",
    "\n",
    "Let's drop a few of the columns we used in calculations and no longer need."
   ]
  },
  {
   "cell_type": "code",
<<<<<<< HEAD
   "execution_count": 8,
=======
   "execution_count": 68,
>>>>>>> 0af37b1f67903efd746e537710353e79d37bc7e4
   "metadata": {
    "collapsed": false
   },
   "outputs": [
    {
     "data": {
      "text/html": [
       "<div>\n",
       "<table border=\"1\" class=\"dataframe\">\n",
       "  <thead>\n",
       "    <tr style=\"text-align: right;\">\n",
       "      <th></th>\n",
       "      <th>Trip id</th>\n",
       "      <th>Bikeid</th>\n",
       "      <th>From station id</th>\n",
       "      <th>From station name</th>\n",
       "      <th>To station id</th>\n",
       "      <th>To station name</th>\n",
       "      <th>Usertype</th>\n",
       "      <th>Tripduration_mins</th>\n",
       "      <th>Startdate</th>\n",
       "    </tr>\n",
       "  </thead>\n",
       "  <tbody>\n",
       "    <tr>\n",
       "      <th>0</th>\n",
       "      <td>27193394</td>\n",
       "      <td>70024</td>\n",
       "      <td>1012</td>\n",
       "      <td>North Shore Trail &amp; Fort Duquesne Bridge</td>\n",
       "      <td>1045</td>\n",
       "      <td>S 27th St &amp; Sidney St. (Southside Works)</td>\n",
       "      <td>Customer</td>\n",
       "      <td>44.316667</td>\n",
       "      <td>04/01/2017</td>\n",
       "    </tr>\n",
       "    <tr>\n",
       "      <th>1</th>\n",
       "      <td>27193815</td>\n",
       "      <td>70353</td>\n",
       "      <td>1037</td>\n",
       "      <td>Frew St &amp; Schenley Dr</td>\n",
       "      <td>1038</td>\n",
       "      <td>Boulevard of the Allies &amp; Parkview Ave</td>\n",
       "      <td>Subscriber</td>\n",
       "      <td>4.733333</td>\n",
       "      <td>04/01/2017</td>\n",
       "    </tr>\n",
       "    <tr>\n",
       "      <th>2</th>\n",
       "      <td>27194749</td>\n",
       "      <td>70067</td>\n",
       "      <td>1010</td>\n",
       "      <td>10th St &amp; Penn Ave (David L. Lawrence Conventi...</td>\n",
       "      <td>1010</td>\n",
       "      <td>10th St &amp; Penn Ave (David L. Lawrence Conventi...</td>\n",
       "      <td>Customer</td>\n",
       "      <td>26.266667</td>\n",
       "      <td>04/01/2017</td>\n",
       "    </tr>\n",
       "    <tr>\n",
       "      <th>3</th>\n",
       "      <td>27201194</td>\n",
       "      <td>70191</td>\n",
       "      <td>1005</td>\n",
       "      <td>Forbes Ave &amp; Grant St</td>\n",
       "      <td>1043</td>\n",
       "      <td>Coltart Ave &amp; Forbes Ave</td>\n",
       "      <td>Customer</td>\n",
       "      <td>161.583333</td>\n",
       "      <td>04/01/2017</td>\n",
       "    </tr>\n",
       "    <tr>\n",
       "      <th>4</th>\n",
       "      <td>27203670</td>\n",
       "      <td>70353</td>\n",
       "      <td>1038</td>\n",
       "      <td>Boulevard of the Allies &amp; Parkview Ave</td>\n",
       "      <td>1047</td>\n",
       "      <td>S 22nd St &amp; E Carson St</td>\n",
       "      <td>Subscriber</td>\n",
       "      <td>19.400000</td>\n",
       "      <td>04/01/2017</td>\n",
       "    </tr>\n",
       "  </tbody>\n",
       "</table>\n",
       "</div>"
      ],
      "text/plain": [
       "    Trip id  Bikeid  From station id  \\\n",
       "0  27193394   70024             1012   \n",
       "1  27193815   70353             1037   \n",
       "2  27194749   70067             1010   \n",
       "3  27201194   70191             1005   \n",
       "4  27203670   70353             1038   \n",
       "\n",
       "                                   From station name  To station id  \\\n",
       "0           North Shore Trail & Fort Duquesne Bridge           1045   \n",
       "1                              Frew St & Schenley Dr           1038   \n",
       "2  10th St & Penn Ave (David L. Lawrence Conventi...           1010   \n",
       "3                              Forbes Ave & Grant St           1043   \n",
       "4             Boulevard of the Allies & Parkview Ave           1047   \n",
       "\n",
       "                                     To station name    Usertype  \\\n",
       "0           S 27th St & Sidney St. (Southside Works)    Customer   \n",
       "1             Boulevard of the Allies & Parkview Ave  Subscriber   \n",
       "2  10th St & Penn Ave (David L. Lawrence Conventi...    Customer   \n",
       "3                           Coltart Ave & Forbes Ave    Customer   \n",
       "4                            S 22nd St & E Carson St  Subscriber   \n",
       "\n",
       "   Tripduration_mins   Startdate  \n",
       "0          44.316667  04/01/2017  \n",
       "1           4.733333  04/01/2017  \n",
       "2          26.266667  04/01/2017  \n",
       "3         161.583333  04/01/2017  \n",
       "4          19.400000  04/01/2017  "
      ]
     },
<<<<<<< HEAD
     "execution_count": 8,
=======
     "execution_count": 68,
>>>>>>> 0af37b1f67903efd746e537710353e79d37bc7e4
     "metadata": {},
     "output_type": "execute_result"
    }
   ],
   "source": [
<<<<<<< HEAD
    "rentals_df.drop(['Trip id', 'Bikeid', 'Starttime', 'Stoptime', 'Tripduration', 'From station id', 'To station id'], axis=1, inplace=True)\n",
=======
    "rentals_df.drop(['Starttime', 'Stoptime', 'Starttime_dt', 'Tripduration'], axis=1, inplace=True)\n",
>>>>>>> 0af37b1f67903efd746e537710353e79d37bc7e4
    "\n",
    "rentals_df.head()"
   ]
  },
  {
   "cell_type": "markdown",
   "metadata": {},
   "source": [
    "### 3. Aggregating data\n",
    "Here, we will see how to group data in preparation for plotting."
   ]
<<<<<<< HEAD
  },
  {
   "cell_type": "markdown",
   "metadata": {},
   "source": [
    "First, we want to filter the data so that we are only working with rides that occurred in June of 2017.\n",
    "\n",
    "The syntax to make this happens leverages the date time object we created earlier. To break down what's happening here, first we're identifying which date time objects are greater than 2017-06-01 (which is technically June 1st at 00:00:00) using this snippet `rentals_df['Starttime_dt'] > '2017-06-01'`. This creates a boolean value (True/False) for each record, which is then used to select each record, which is stored as a new data frame called `june_rides`."
   ]
  },
  {
   "cell_type": "code",
   "execution_count": 83,
   "metadata": {
    "collapsed": false,
    "scrolled": true
   },
   "outputs": [
    {
     "data": {
      "text/html": [
       "<div>\n",
       "<table border=\"1\" class=\"dataframe\">\n",
       "  <thead>\n",
       "    <tr style=\"text-align: right;\">\n",
       "      <th></th>\n",
       "      <th>Trip id</th>\n",
       "      <th>Starttime</th>\n",
       "      <th>Stoptime</th>\n",
       "      <th>Bikeid</th>\n",
       "      <th>Tripduration</th>\n",
       "      <th>From station id</th>\n",
       "      <th>From station name</th>\n",
       "      <th>To station id</th>\n",
       "      <th>To station name</th>\n",
       "      <th>Usertype</th>\n",
       "      <th>Tripduration_mins</th>\n",
       "      <th>Starttime_dt</th>\n",
       "      <th>Startdate</th>\n",
       "    </tr>\n",
       "  </thead>\n",
       "  <tbody>\n",
       "    <tr>\n",
       "      <th>14647</th>\n",
       "      <td>30917642</td>\n",
       "      <td>6/1/2017 0:10</td>\n",
       "      <td>6/1/2017 0:13</td>\n",
       "      <td>70269</td>\n",
       "      <td>177</td>\n",
       "      <td>1023</td>\n",
       "      <td>Liberty Ave &amp; Baum Blvd</td>\n",
       "      <td>1024</td>\n",
       "      <td>S Negley Ave &amp; Baum Blvd</td>\n",
       "      <td>Subscriber</td>\n",
       "      <td>2.950000</td>\n",
       "      <td>2017-06-01 00:10:00</td>\n",
       "      <td>06/01/2017</td>\n",
       "    </tr>\n",
       "    <tr>\n",
       "      <th>14648</th>\n",
       "      <td>30917910</td>\n",
       "      <td>6/1/2017 0:25</td>\n",
       "      <td>6/1/2017 0:36</td>\n",
       "      <td>70153</td>\n",
       "      <td>663</td>\n",
       "      <td>1026</td>\n",
       "      <td>Penn Ave &amp; S Whitfield St</td>\n",
       "      <td>1019</td>\n",
       "      <td>42nd St &amp; Butler St</td>\n",
       "      <td>Subscriber</td>\n",
       "      <td>11.050000</td>\n",
       "      <td>2017-06-01 00:25:00</td>\n",
       "      <td>06/01/2017</td>\n",
       "    </tr>\n",
       "    <tr>\n",
       "      <th>14649</th>\n",
       "      <td>30919524</td>\n",
       "      <td>6/1/2017 1:11</td>\n",
       "      <td>6/1/2017 2:16</td>\n",
       "      <td>70252</td>\n",
       "      <td>3912</td>\n",
       "      <td>1008</td>\n",
       "      <td>Centre Ave &amp; PPG Paints Arena</td>\n",
       "      <td>1006</td>\n",
       "      <td>Ross St &amp; Sixth Ave (Steel Plaza T Station)</td>\n",
       "      <td>Customer</td>\n",
       "      <td>65.200000</td>\n",
       "      <td>2017-06-01 01:11:00</td>\n",
       "      <td>06/01/2017</td>\n",
       "    </tr>\n",
       "    <tr>\n",
       "      <th>14650</th>\n",
       "      <td>30919608</td>\n",
       "      <td>6/1/2017 1:13</td>\n",
       "      <td>6/1/2017 2:16</td>\n",
       "      <td>70471</td>\n",
       "      <td>3796</td>\n",
       "      <td>1008</td>\n",
       "      <td>Centre Ave &amp; PPG Paints Arena</td>\n",
       "      <td>1006</td>\n",
       "      <td>Ross St &amp; Sixth Ave (Steel Plaza T Station)</td>\n",
       "      <td>Customer</td>\n",
       "      <td>63.266667</td>\n",
       "      <td>2017-06-01 01:13:00</td>\n",
       "      <td>06/01/2017</td>\n",
       "    </tr>\n",
       "    <tr>\n",
       "      <th>14651</th>\n",
       "      <td>30919783</td>\n",
       "      <td>6/1/2017 1:16</td>\n",
       "      <td>6/1/2017 2:16</td>\n",
       "      <td>70130</td>\n",
       "      <td>3635</td>\n",
       "      <td>1008</td>\n",
       "      <td>Centre Ave &amp; PPG Paints Arena</td>\n",
       "      <td>1006</td>\n",
       "      <td>Ross St &amp; Sixth Ave (Steel Plaza T Station)</td>\n",
       "      <td>Customer</td>\n",
       "      <td>60.583333</td>\n",
       "      <td>2017-06-01 01:16:00</td>\n",
       "      <td>06/01/2017</td>\n",
       "    </tr>\n",
       "  </tbody>\n",
       "</table>\n",
       "</div>"
      ],
      "text/plain": [
       "        Trip id      Starttime       Stoptime  Bikeid  Tripduration  \\\n",
       "14647  30917642  6/1/2017 0:10  6/1/2017 0:13   70269           177   \n",
       "14648  30917910  6/1/2017 0:25  6/1/2017 0:36   70153           663   \n",
       "14649  30919524  6/1/2017 1:11  6/1/2017 2:16   70252          3912   \n",
       "14650  30919608  6/1/2017 1:13  6/1/2017 2:16   70471          3796   \n",
       "14651  30919783  6/1/2017 1:16  6/1/2017 2:16   70130          3635   \n",
       "\n",
       "       From station id              From station name  To station id  \\\n",
       "14647             1023        Liberty Ave & Baum Blvd           1024   \n",
       "14648             1026      Penn Ave & S Whitfield St           1019   \n",
       "14649             1008  Centre Ave & PPG Paints Arena           1006   \n",
       "14650             1008  Centre Ave & PPG Paints Arena           1006   \n",
       "14651             1008  Centre Ave & PPG Paints Arena           1006   \n",
       "\n",
       "                                   To station name    Usertype  \\\n",
       "14647                     S Negley Ave & Baum Blvd  Subscriber   \n",
       "14648                          42nd St & Butler St  Subscriber   \n",
       "14649  Ross St & Sixth Ave (Steel Plaza T Station)    Customer   \n",
       "14650  Ross St & Sixth Ave (Steel Plaza T Station)    Customer   \n",
       "14651  Ross St & Sixth Ave (Steel Plaza T Station)    Customer   \n",
       "\n",
       "       Tripduration_mins        Starttime_dt   Startdate  \n",
       "14647           2.950000 2017-06-01 00:10:00  06/01/2017  \n",
       "14648          11.050000 2017-06-01 00:25:00  06/01/2017  \n",
       "14649          65.200000 2017-06-01 01:11:00  06/01/2017  \n",
       "14650          63.266667 2017-06-01 01:13:00  06/01/2017  \n",
       "14651          60.583333 2017-06-01 01:16:00  06/01/2017  "
      ]
     },
     "execution_count": 83,
     "metadata": {},
     "output_type": "execute_result"
    }
   ],
   "source": [
    "june_rides = rentals_df[rentals_df['Starttime_dt'] > '2017-06-01']\n",
    "june_rides.head()"
   ]
  },
  {
   "cell_type": "markdown",
   "metadata": {},
   "source": [
    "Because we would like to create a histogram that visualizes the count of rides per day, we select the `Starttime_dt` column from our `june_rides` data frame. Now we have a data frame with a listing of all of the individual date time objects that represent the start time of each ride in June of 2017."
   ]
  },
  {
   "cell_type": "code",
   "execution_count": 84,
   "metadata": {
    "collapsed": false
   },
   "outputs": [
    {
     "data": {
      "text/html": [
       "<div>\n",
       "<table border=\"1\" class=\"dataframe\">\n",
       "  <thead>\n",
       "    <tr style=\"text-align: right;\">\n",
       "      <th></th>\n",
       "      <th>Starttime_dt</th>\n",
       "    </tr>\n",
       "  </thead>\n",
       "  <tbody>\n",
       "    <tr>\n",
       "      <th>14647</th>\n",
       "      <td>2017-06-01 00:10:00</td>\n",
       "    </tr>\n",
       "    <tr>\n",
       "      <th>14648</th>\n",
       "      <td>2017-06-01 00:25:00</td>\n",
       "    </tr>\n",
       "    <tr>\n",
       "      <th>14649</th>\n",
       "      <td>2017-06-01 01:11:00</td>\n",
       "    </tr>\n",
       "    <tr>\n",
       "      <th>14650</th>\n",
       "      <td>2017-06-01 01:13:00</td>\n",
       "    </tr>\n",
       "    <tr>\n",
       "      <th>14651</th>\n",
       "      <td>2017-06-01 01:16:00</td>\n",
       "    </tr>\n",
       "  </tbody>\n",
       "</table>\n",
       "</div>"
      ],
      "text/plain": [
       "             Starttime_dt\n",
       "14647 2017-06-01 00:10:00\n",
       "14648 2017-06-01 00:25:00\n",
       "14649 2017-06-01 01:11:00\n",
       "14650 2017-06-01 01:13:00\n",
       "14651 2017-06-01 01:16:00"
      ]
     },
     "execution_count": 84,
     "metadata": {},
     "output_type": "execute_result"
    }
   ],
   "source": [
    "june_start_dates = june_rides[['Starttime_dt']]\n",
    "june_start_dates.head()"
   ]
  },
  {
   "cell_type": "markdown",
   "metadata": {},
   "source": [
    "In order to get a count of the number of rides that occurred on each day, we use the combination of a `.groupby()` and `.count()` functions. Let's break it down by individual pieces.\n",
    "\n",
    "First, the snippet \n",
    "```python\n",
    "june_start_dates['Starttime_dt'].dt.date\n",
    "``` \n",
    "parses the date (e.g. 2017-06-01) from the date time object (e.g. 2017-06-01 01:11:00) in the `Starttime_dt` column. This is the value that we will be using to `.groupby()`.\n",
    "\n",
    "Then, the `.count()` will count up all occurrences of the previously calculated values, which will be stored in the `count_of_rides` data frame."
   ]
  },
  {
   "cell_type": "code",
   "execution_count": 91,
   "metadata": {
    "collapsed": false
   },
   "outputs": [
    {
     "data": {
      "text/html": [
       "<div>\n",
       "<table border=\"1\" class=\"dataframe\">\n",
       "  <thead>\n",
       "    <tr style=\"text-align: right;\">\n",
       "      <th></th>\n",
       "      <th>Starttime_dt</th>\n",
       "    </tr>\n",
       "    <tr>\n",
       "      <th>Starttime_dt</th>\n",
       "      <th></th>\n",
       "    </tr>\n",
       "  </thead>\n",
       "  <tbody>\n",
       "    <tr>\n",
       "      <th>2017-06-01</th>\n",
       "      <td>338</td>\n",
       "    </tr>\n",
       "    <tr>\n",
       "      <th>2017-06-02</th>\n",
       "      <td>388</td>\n",
       "    </tr>\n",
       "    <tr>\n",
       "      <th>2017-06-03</th>\n",
       "      <td>548</td>\n",
       "    </tr>\n",
       "    <tr>\n",
       "      <th>2017-06-04</th>\n",
       "      <td>245</td>\n",
       "    </tr>\n",
       "    <tr>\n",
       "      <th>2017-06-05</th>\n",
       "      <td>213</td>\n",
       "    </tr>\n",
       "  </tbody>\n",
       "</table>\n",
       "</div>"
      ],
      "text/plain": [
       "              Starttime_dt\n",
       "Starttime_dt              \n",
       "2017-06-01             338\n",
       "2017-06-02             388\n",
       "2017-06-03             548\n",
       "2017-06-04             245\n",
       "2017-06-05             213"
      ]
     },
     "execution_count": 91,
     "metadata": {},
     "output_type": "execute_result"
    }
   ],
   "source": [
    "count_of_rides = june_start_dates.groupby(june_start_dates['Starttime_dt'].dt.date).count()\n",
    "count_of_rides.head()"
   ]
  },
  {
   "cell_type": "markdown",
   "metadata": {},
   "source": [
    "### 4. Plotting data\n",
    "Here, we will see how to plot our prepared data as a histogram."
   ]
  },
  {
   "cell_type": "markdown",
   "metadata": {},
   "source": [
    "First, we tell Python that we want to see the plot `inline` by using the magic `%matplotlib inline`."
   ]
  },
  {
   "cell_type": "code",
   "execution_count": 92,
   "metadata": {
    "collapsed": true
   },
   "outputs": [],
   "source": [
    "%matplotlib inline\n",
    "import matplotlib.pyplot as plt"
   ]
  },
  {
   "cell_type": "markdown",
   "metadata": {},
   "source": [
    "We update the index of the `count_of_rides` data frame. Then, by using our aggregated data frame, we simply call the `.plot()` function with the `kind=bar` parameter to visualize the count of rides per date in June of 2017."
   ]
  },
  {
   "cell_type": "code",
   "execution_count": 93,
   "metadata": {
    "collapsed": false
   },
   "outputs": [
    {
     "data": {
      "text/plain": [
       "<matplotlib.axes._subplots.AxesSubplot at 0x2e1742a5c18>"
      ]
     },
     "execution_count": 93,
     "metadata": {},
     "output_type": "execute_result"
    },
    {
     "data": {
      "image/png": "iVBORw0KGgoAAAANSUhEUgAAAXoAAAFHCAYAAACvRIfjAAAABHNCSVQICAgIfAhkiAAAAAlwSFlz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\nB5pbztncONDCAAAAAElFTkSuQmCC\n",
      "text/plain": [
       "<matplotlib.figure.Figure at 0x2e174319160>"
      ]
     },
     "metadata": {},
     "output_type": "display_data"
    }
   ],
   "source": [
    "count_of_rides.index.name = 'Ride Start Date'\n",
    "\n",
    "count_of_rides.plot(kind=\"bar\", title='Frequency of Healthy Rides (June 2017)')"
   ]
=======
>>>>>>> 0af37b1f67903efd746e537710353e79d37bc7e4
  }
 ],
 "metadata": {
  "anaconda-cloud": {},
  "kernelspec": {
   "display_name": "Python [conda env:Python35]",
   "language": "python",
   "name": "conda-env-Python35-py"
  },
  "language_info": {
   "codemirror_mode": {
    "name": "ipython",
    "version": 3
   },
   "file_extension": ".py",
   "mimetype": "text/x-python",
   "name": "python",
   "nbconvert_exporter": "python",
   "pygments_lexer": "ipython3",
   "version": "3.5.3"
  }
 },
 "nbformat": 4,
 "nbformat_minor": 1
}
